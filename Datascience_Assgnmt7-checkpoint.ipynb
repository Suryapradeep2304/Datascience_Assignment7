{
 "cells": [
  {
   "cell_type": "code",
   "execution_count": 49,
   "metadata": {},
   "outputs": [
    {
     "name": "stdout",
     "output_type": "stream",
     "text": [
      "2.0\n",
      "3.0\n",
      "4.0\n",
      "5.0\n",
      "6.0\n",
      "-4.0\n",
      "-5.0\n",
      "-6.0\n",
      "1.6666666666666667\n",
      "4.0\n",
      "5.0\n"
     ]
    }
   ],
   "source": [
    "import numpy as np\n",
    "from numpy import convolve\n",
    "import matplotlib.pyplot as plt\n",
    "\n",
    "mylist = [3, 5, 7, 2, 8, 10, 11, 65, 72, 81, 99, 100, 150]\n",
    "N = 3\n",
    "#cum_Sum - cumulative sum of three numbers\n",
    "cum_sum, moving_aves = [0], []\n",
    "\n",
    "for i, x in enumerate(mylist, 1):\n",
    "    cumsum.append(cumsum[i-1] + x)\n",
    "    if i>=N:\n",
    "        moving_ave = (cumsum[i] - cumsum[i-N])/N\n",
    "        #can do moving_ave here\n",
    "        moving_aves.append(moving_ave)\n",
    "        print (moving_ave)\n"
   ]
  }
 ],
 "metadata": {
  "kernelspec": {
   "display_name": "Python 3",
   "language": "python",
   "name": "python3"
  },
  "language_info": {
   "codemirror_mode": {
    "name": "ipython",
    "version": 3
   },
   "file_extension": ".py",
   "mimetype": "text/x-python",
   "name": "python",
   "nbconvert_exporter": "python",
   "pygments_lexer": "ipython3",
   "version": "3.6.5"
  }
 },
 "nbformat": 4,
 "nbformat_minor": 2
}
